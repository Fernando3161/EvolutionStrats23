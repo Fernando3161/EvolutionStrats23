{
 "cells": [
  {
   "cell_type": "code",
   "execution_count": 1,
   "metadata": {},
   "outputs": [
    {
     "data": {
      "image/png": "[encoded data removed]",
      "text/plain": [
       "<Figure size 432x288 with 1 Axes>"
      ]
     },
     "metadata": {
      "needs_background": "light"
     },
     "output_type": "display_data"
    },
    {
     "name": "stdout",
     "output_type": "stream",
     "text": [
      "14.136976287109283\n"
     ]
    }
   ],
   "source": [
    "import numpy as np\n",
    "k=0\n",
    "k_l = []\n",
    "while k < 10:\n",
    "    N = 200\n",
    "    rand_vector = np.random.randn(N)\n",
    "\n",
    "    leng= 0\n",
    "    for n in rand_vector:\n",
    "        leng+=n*n\n",
    "\n",
    "    k_l.append(np.sqrt(leng))\n",
    "    k+=1\n",
    "\n",
    "import matplotlib.pyplot as plt\n",
    "\n",
    "plt.plot(k_l)\n",
    "plt.show()\n",
    "print(np.mean(k_l))"
   ]
  },
  {
   "cell_type": "code",
   "execution_count": 2,
   "metadata": {},
   "outputs": [],
   "source": [
    "class Mutation:\n",
    "    def __init__(self, xm, fit, zm):\n",
    "        self.xm = xm\n",
    "        self.zm = zm\n",
    "        self.fit = fit\n",
    "\n",
    "    def __gt__(self, mutation2):\n",
    "        return self.fit > mutation2.fit\n",
    "\n",
    "    def __str__(self):\n",
    "        return \"Mutation-Fitness: \" + str(self.fit)\n",
    "\n",
    "def sphere_function(value):\n",
    "    return np.dot(value.T, value)\n",
    "\n",
    "\n",
    "def rosenbrock_function(value):\n",
    "    n = len(value)\n",
    "    _sum = 0\n",
    "\n",
    "    for i in range(n - 1):\n",
    "        _sum += 100 * (value[i] ** 2 - value[i+1]) ** 2 + (value[i] - 1) ** 2\n",
    "    return _sum\n",
    "\n",
    "\n",
    "def rastrigin_function(value):\n",
    "    A = 10\n",
    "    n = len(value)\n",
    "    _sum = 0\n",
    "\n",
    "    for i in range(n):\n",
    "        _sum += value[i] ** 2 - A * np.cos(2 * np.pi * value[i])\n",
    "    return A * n + _sum"
   ]
  },
  {
   "cell_type": "code",
   "execution_count": 3,
   "metadata": {},
   "outputs": [
    {
     "name": "stdout",
     "output_type": "stream",
     "text": [
      "The generation 1 is: Mutation-Fitness: 12.030920922595357 Next sigma: 0.8248808218747926\n",
      "The generation 2 is: Mutation-Fitness: 5.272316748333382 Next sigma: 0.6432029103631021\n",
      "The generation 3 is: Mutation-Fitness: 1.747169768546263 Next sigma: 0.5184973687132556\n",
      "The generation 4 is: Mutation-Fitness: 0.6953696420966058 Next sigma: 0.4381084755018614\n",
      "The generation 5 is: Mutation-Fitness: 0.513297571040093 Next sigma: 0.35472606918136956\n",
      "The generation 6 is: Mutation-Fitness: 0.513297571040093 Next sigma: 0.28802361383127617\n",
      "The generation 7 is: Mutation-Fitness: 0.33648834677010975 Next sigma: 0.2284701541594978\n",
      "The generation 8 is: Mutation-Fitness: 0.08637225611709816 Next sigma: 0.18569054359955753\n",
      "The generation 9 is: Mutation-Fitness: 0.08407832241509 Next sigma: 0.15400399644170112\n",
      "The generation 10 is: Mutation-Fitness: 0.017521191629461905 Next sigma: 0.11771651111788854\n",
      "The generation 11 is: Mutation-Fitness: 0.017521191629461905 Next sigma: 0.0933881049804827\n",
      "The generation 12 is: Mutation-Fitness: 0.014974713889743932 Next sigma: 0.07260634668246929\n",
      "The generation 13 is: Mutation-Fitness: 0.01137295500806804 Next sigma: 0.055560398234651566\n",
      "The generation 14 is: Mutation-Fitness: 0.0052674551224931735 Next sigma: 0.04366775391518107\n",
      "The generation 15 is: Mutation-Fitness: 0.004671648140470974 Next sigma: 0.03348627446648236\n",
      "The generation 16 is: Mutation-Fitness: 0.0029698908169665107 Next sigma: 0.025624980141358243\n",
      "The generation 17 is: Mutation-Fitness: 0.0010274173152246963 Next sigma: 0.01988948452931807\n",
      "The generation 18 is: Mutation-Fitness: 0.00086321943080224 Next sigma: 0.015403367141189266\n",
      "The generation 19 is: Mutation-Fitness: 0.00023576585056796445 Next sigma: 0.011917370569273939\n",
      "The generation 20 is: Mutation-Fitness: 0.00023576585056796445 Next sigma: 0.009635777455862757\n",
      "The generation 21 is: Mutation-Fitness: 0.0001555147622293851 Next sigma: 0.007387998323352085\n",
      "The generation 22 is: Mutation-Fitness: 8.227552750128814e-05 Next sigma: 0.006017940933954422\n",
      "The generation 23 is: Mutation-Fitness: 4.3331461491774776e-05 Next sigma: 0.0045877076543145295\n",
      "The generation 24 is: Mutation-Fitness: 3.941478177380828e-05 Next sigma: 0.0034911565123498913\n",
      "The generation 25 is: Mutation-Fitness: 2.3229700836625242e-05 Next sigma: 0.0026897336177973677\n",
      "The generation 26 is: Mutation-Fitness: 9.682519257290021e-06 Next sigma: 0.0021001079335015\n",
      "The generation 27 is: Mutation-Fitness: 5.040695224030632e-06 Next sigma: 0.001607710168645107\n",
      "The generation 28 is: Mutation-Fitness: 1.4209508453020824e-06 Next sigma: 0.0012590284977927696\n",
      "The generation 29 is: Mutation-Fitness: 1.4209508453020824e-06 Next sigma: 0.0010492258642794009\n",
      "The generation 30 is: Mutation-Fitness: 5.441562188911509e-07 Next sigma: 0.0007971586358307273\n",
      "The generation 31 is: Mutation-Fitness: 5.441562188911509e-07 Next sigma: 0.0006149418736938998\n",
      "The generation 32 is: Mutation-Fitness: 1.6423692102576012e-07 Next sigma: 0.00046948788216804986\n",
      "The generation 33 is: Mutation-Fitness: 1.6423692102576012e-07 Next sigma: 0.00036922003988331894\n",
      "The generation 34 is: Mutation-Fitness: 1.6423692102576012e-07 Next sigma: 0.00029922746511381107\n",
      "The generation 35 is: Mutation-Fitness: 1.6423692102576012e-07 Next sigma: 0.00024794066846853057\n",
      "The generation 36 is: Mutation-Fitness: 1.0822097194972685e-07 Next sigma: 0.000188100646726196\n",
      "The generation 37 is: Mutation-Fitness: 9.450684928084768e-08 Next sigma: 0.00014595315399708875\n",
      "The generation 38 is: Mutation-Fitness: 5.572006715144696e-08 Next sigma: 0.00011398379179822223\n",
      "The generation 39 is: Mutation-Fitness: 2.6848776643633217e-08 Next sigma: 9.127605419712904e-05\n",
      "The generation 40 is: Mutation-Fitness: 1.636337461684915e-08 Next sigma: 7.237057538364078e-05\n",
      "The generation 41 is: Mutation-Fitness: 1.1045942551491077e-08 Next sigma: 5.563959543634518e-05\n",
      "The generation 42 is: Mutation-Fitness: 8.58092879189333e-09 Next sigma: 4.277519613792309e-05\n",
      "The generation 43 is: Mutation-Fitness: 5.73541740558768e-09 Next sigma: 3.299370688876821e-05\n",
      "The generation 44 is: Mutation-Fitness: 1.034631397278269e-09 Next sigma: 2.529136245362691e-05\n",
      "The generation 45 is: Mutation-Fitness: 9.43848482446797e-10 Next sigma: 1.9511007142684248e-05\n",
      "The generation 46 is: Mutation-Fitness: 4.083246916839289e-10 Next sigma: 1.5699843675098594e-05\n",
      "The generation 47 is: Mutation-Fitness: 2.7653727541702457e-10 Next sigma: 1.1963746857111356e-05\n",
      "The generation 48 is: Mutation-Fitness: 2.7653727541702457e-10 Next sigma: 9.13801333748128e-06\n",
      "The generation 49 is: Mutation-Fitness: 1.5365899912834944e-11 Next sigma: 7.011243268272673e-06\n",
      "The generation 50 is: Mutation-Fitness: 1.5365899912834944e-11 Next sigma: 5.606163569537386e-06\n",
      "The generation 51 is: Mutation-Fitness: 1.5365899912834944e-11 Next sigma: 4.656042262657353e-06\n",
      "The generation 52 is: Mutation-Fitness: 1.5365899912834944e-11 Next sigma: 3.973530115696765e-06\n",
      "The generation 53 is: Mutation-Fitness: 1.5365899912834944e-11 Next sigma: 3.451785241476656e-06\n",
      "The generation 54 is: Mutation-Fitness: 1.5365899912834944e-11 Next sigma: 3.031964904168777e-06\n",
      "The generation 55 is: Mutation-Fitness: 1.5365899912834944e-11 Next sigma: 2.6812730527747973e-06\n",
      "The generation 56 is: Mutation-Fitness: 2.7550561447937216e-12 Next sigma: 2.177048122058314e-06\n",
      "The generation 57 is: Mutation-Fitness: 2.7550561447937216e-12 Next sigma: 1.76480532655987e-06\n",
      "The generation 58 is: Mutation-Fitness: 1.889897461773839e-12 Next sigma: 1.3765236247020677e-06\n",
      "The generation 59 is: Mutation-Fitness: 1.889897461773839e-12 Next sigma: 1.0664349501361927e-06\n",
      "The generation 60 is: Mutation-Fitness: 7.144099339474483e-13 Next sigma: 8.291986182240143e-07\n",
      "The generation 61 is: Mutation-Fitness: 6.136843328616971e-13 Next sigma: 6.329360055820755e-07\n",
      "The generation 62 is: Mutation-Fitness: 4.694215535574206e-13 Next sigma: 4.920079994271173e-07\n",
      "The generation 63 is: Mutation-Fitness: 1.7421843422857173e-13 Next sigma: 3.7361013385064245e-07\n",
      "The generation 64 is: Mutation-Fitness: 1.7421843422857173e-13 Next sigma: 2.8969449932345505e-07\n",
      "The generation 65 is: Mutation-Fitness: 1.7421843422857173e-13 Next sigma: 2.3020587942006908e-07\n",
      "The generation 66 is: Mutation-Fitness: 9.828515711510353e-14 Next sigma: 1.8023725655678904e-07\n",
      "The generation 67 is: Mutation-Fitness: 3.687034899007104e-14 Next sigma: 1.4114239896802406e-07\n",
      "The generation 68 is: Mutation-Fitness: 2.642083266580025e-14 Next sigma: 1.0874834865637718e-07\n",
      "The generation 69 is: Mutation-Fitness: 2.642083266580025e-14 Next sigma: 8.358462876041665e-08\n",
      "The generation 70 is: Mutation-Fitness: 1.1469900352921098e-14 Next sigma: 6.399615684454312e-08\n",
      "The generation 71 is: Mutation-Fitness: 7.0839835313677836e-15 Next sigma: 4.954592641075406e-08\n",
      "The generation 72 is: Mutation-Fitness: 3.705619746458298e-15 Next sigma: 3.8345579550642037e-08\n",
      "The generation 73 is: Mutation-Fitness: 2.442486811020524e-15 Next sigma: 2.97114041742982e-08\n",
      "The generation 74 is: Mutation-Fitness: 1.1059054345238786e-15 Next sigma: 2.2848103946609492e-08\n",
      "The generation 75 is: Mutation-Fitness: 5.969749550385137e-16 Next sigma: 1.758677362997862e-08\n",
      "The generation 76 is: Mutation-Fitness: 5.969749550385137e-16 Next sigma: 1.3722614714090378e-08\n",
      "The generation 77 is: Mutation-Fitness: 2.2038840648371583e-16 Next sigma: 1.057997410424742e-08\n",
      "The generation 78 is: Mutation-Fitness: 1.6749827466584328e-16 Next sigma: 8.288247616350208e-09\n",
      "The generation 79 is: Mutation-Fitness: 7.039077478674375e-17 Next sigma: 6.457824561516727e-09\n",
      "The generation 80 is: Mutation-Fitness: 3.4924690660910916e-17 Next sigma: 4.906642975513811e-09\n",
      "The generation 81 is: Mutation-Fitness: 3.4924690660910916e-17 Next sigma: 3.727730109563788e-09\n",
      "The generation 82 is: Mutation-Fitness: 2.9283056528177675e-17 Next sigma: 2.9005925934228874e-09\n",
      "The generation 83 is: Mutation-Fitness: 2.007351956317859e-17 Next sigma: 2.2573476225453675e-09\n",
      "The generation 84 is: Mutation-Fitness: 4.4051418534846816e-18 Next sigma: 1.7448507503327074e-09\n",
      "The generation 85 is: Mutation-Fitness: 4.4051418534846816e-18 Next sigma: 1.4153249864115111e-09\n",
      "The generation 86 is: Mutation-Fitness: 4.317285483116552e-18 Next sigma: 1.1193809393425785e-09\n",
      "The generation 87 is: Mutation-Fitness: 3.760119395062559e-18 Next sigma: 8.543862562992257e-10\n",
      "The generation 88 is: Mutation-Fitness: 1.3340935899858794e-18 Next sigma: 6.662876428214794e-10\n",
      "The generation 89 is: Mutation-Fitness: 8.517819198756487e-19 Next sigma: 5.158411677716314e-10\n",
      "The generation 90 is: Mutation-Fitness: 3.387768843950435e-19 Next sigma: 3.989217886776141e-10\n",
      "The generation 91 is: Mutation-Fitness: 1.5276027131339997e-19 Next sigma: 3.078844218621485e-10\n",
      "The generation 92 is: Mutation-Fitness: 1.5276027131339997e-19 Next sigma: 2.4052768202567826e-10\n",
      "The generation 93 is: Mutation-Fitness: 1.1807560434455617e-19 Next sigma: 1.828844276869675e-10\n",
      "The generation 94 is: Mutation-Fitness: 8.728099739234396e-20 Next sigma: 1.4499803332219787e-10\n",
      "The generation 95 is: Mutation-Fitness: 3.6375937981303806e-20 Next sigma: 1.1557392988633707e-10\n",
      "The generation 96 is: Mutation-Fitness: 2.5345275786572755e-20 Next sigma: 8.947114941825962e-11\n",
      "The generation 97 is: Mutation-Fitness: 6.227487599145182e-21 Next sigma: 6.812221140840273e-11\n",
      "The generation 98 is: Mutation-Fitness: 6.227487599145182e-21 Next sigma: 5.2739208931959276e-11\n",
      "The generation 99 is: Mutation-Fitness: 1.6841354791025262e-21 Next sigma: 4.0732190185105794e-11\n",
      "The generation 100 is: Mutation-Fitness: 1.4396251880068835e-21 Next sigma: 3.2027077264315727e-11\n"
     ]
    }
   ],
   "source": [
    "N = 5\n",
    "x = 2 * np.ones(N)\n",
    "generation = 1\n",
    "_lambda = 20\n",
    "sigma = 1.0\n",
    "s_sigma = 0\n",
    "c_sigma = np.sqrt(1 / (N + 1))\n",
    "d = 1 + np.sqrt(1 / N)\n",
    "population = []\n",
    "\n",
    "# 100 Generations\n",
    "while generation <= 100:\n",
    "\n",
    "    # Create lambda offsprings per generation\n",
    "    for o in range(1, _lambda):\n",
    "        # Create and mutate offspring\n",
    "        z = np.random.randn(N)\n",
    "        x_ = x + sigma * z\n",
    "        fitness = sphere_function(x_)\n",
    "        mutation = Mutation(x_, fitness, z)\n",
    "        population.append(mutation)\n",
    "\n",
    "    # Select the 1 best candidate (x_, z) by sorting fitness\n",
    "    population=sorted(population, key=lambda x: x.fit, reverse=False)\n",
    "    #population.sort()\n",
    "    population = population[0:1]\n",
    "    x = population[0].xm\n",
    "    z = population[0].zm\n",
    "\n",
    "    # Calculate cumulative path length and new step size\n",
    "    s_sigma = (1 - c_sigma) * s_sigma + c_sigma * z\n",
    "    sigma = sigma * np.exp((c_sigma / d) * (((np.linalg.norm(s_sigma) ** 2) / N) - 1))\n",
    "\n",
    "    print(\"The generation\", generation, \"is:\", \", \".join([str(m) for m in population]), \"Next sigma:\", sigma)\n",
    "\n",
    "    generation += 1"
   ]
  },
  {
   "cell_type": "code",
   "execution_count": 4,
   "metadata": {},
   "outputs": [
    {
     "data": {
      "text/plain": [
       "{2: {2: None}, 5: {2: None}, 10: {2: None}}"
      ]
     },
     "execution_count": 4,
     "metadata": {},
     "output_type": "execute_result"
    }
   ],
   "source": [
    "N = [2,5,10]\n",
    "FUNC = [0,1,2]\n"
   ]
  }
 ],
 "metadata": {
  "kernelspec": {
   "display_name": "dataEval",
   "language": "python",
   "name": "python3"
  },
  "language_info": {
   "codemirror_mode": {
    "name": "ipython",
    "version": 3
   },
   "file_extension": ".py",
   "mimetype": "text/x-python",
   "name": "python",
   "nbconvert_exporter": "python",
   "pygments_lexer": "ipython3",
   "version": "3.8.13"
  },
  "orig_nbformat": 4,
  "vscode": {
   "interpreter": {
    "hash": "43cc8d3ad658b12aaf1af81c6ab1877452e667481bbe2cc6fea6b0089ce406b5"
   }
  }
 },
 "nbformat": 4,
 "nbformat_minor": 2
}
