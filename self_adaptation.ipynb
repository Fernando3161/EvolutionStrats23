{
 "cells": [
  {
   "cell_type": "code",
   "execution_count": 2,
   "metadata": {},
   "outputs": [],
   "source": [
    "import numpy as np\n",
    "import statistics\n",
    "import pandas as pd\n",
    "import matplotlib.pyplot as plt\n",
    "import seaborn\n",
    "\n",
    "def create_genes(dimensions=2, space=10):\n",
    "    \"\"\"Creates a list with N random elements normally distributed\n",
    "\n",
    "    Args:\n",
    "        dimensions (int, optional): Number of genes. Defaults to 2.\n",
    "        space (int, optional): Average of the random generated values. Defaults to 10.\n",
    "\n",
    "    Returns:\n",
    "        array: Array n*1 with the genes\n",
    "    \"\"\"\n",
    "\n",
    "    genes = space*np.random.rand(dimensions)\n",
    "    return genes\n",
    "\n",
    "\n",
    "def calc_fitness(genes, func=None):\n",
    "    \"\"\"Calculates the fitness of the genes\n",
    "\n",
    "    Args:\n",
    "        genes (array): Array with the genes\n",
    "        func (int): Integer to look the function\n",
    "\n",
    "    Raises:\n",
    "        ValueError: If the fitness function is not found\n",
    "\n",
    "    Returns:\n",
    "        double: fitness value of the function\n",
    "    \"\"\"\n",
    "\n",
    "    func_list =  [\"sphere\",\"rosenbrock\", \"rastring\"]\n",
    "    func = func_list[func]\n",
    "    if func not in [\"sphere\", \"rosenbrock\", \"rastring\"]:\n",
    "        raise ValueError(\"Fitness function not recognized\")\n",
    "    # Fitnessfunktion ist die Multiplikation aller N Elemente\n",
    "    if func == \"sphere\":\n",
    "        fitness = np.dot(genes, genes)\n",
    "        return fitness\n",
    "\n",
    "    if func == \"rosenbrock\":\n",
    "        fitness = 0\n",
    "        for i in range(len(genes) - 1):\n",
    "            x = genes[i]\n",
    "            y = genes[i + 1]\n",
    "            fitness += 100 * (x * x - y) ** 2 + (x - 1) ** 2\n",
    "        return fitness\n",
    "\n",
    "    if func == \"rastring\":\n",
    "        a = 10\n",
    "        n = len(genes)\n",
    "        fitness = a * n\n",
    "        for i in range(n):\n",
    "            x = genes[i]\n",
    "            fitness += x * x - a * np.cos(2 * np.pi * x) # wikipedia says minus!!\n",
    "        return fitness\n",
    "\n",
    "class Organism(object):\n",
    "    \"\"\"General data class to store information\n",
    "    \"\"\"\n",
    "\n",
    "    def __init__(self, genes=None, sigma=None,func=None, generation = None) -> None:\n",
    "        self.genes = genes\n",
    "        self.sigma = sigma\n",
    "        self.func = func\n",
    "        self.fitness = None\n",
    "        self.generation = generation\n",
    "        if genes is not None:\n",
    "            \n",
    "            self.calc_fitness()\n",
    "\n",
    "    \n",
    "    def calc_fitness(self):\n",
    "        \"\"\"Calculates the fitness of the genes\n",
    "        \"\"\"\n",
    "        self.fitness=calc_fitness(genes=self.genes, func = self.func)"
   ]
  },
  {
   "attachments": {},
   "cell_type": "markdown",
   "metadata": {},
   "source": [
    "Use of multi recombination (u/u, lambda), where it is a mix of all the population\n"
   ]
  },
  {
   "cell_type": "code",
   "execution_count": 12,
   "metadata": {},
   "outputs": [
    {
     "data": {
      "image/png": "[encoded data removed]",
      "text/plain": [
       "<Figure size 432x288 with 1 Axes>"
      ]
     },
     "metadata": {
      "needs_background": "light"
     },
     "output_type": "display_data"
    }
   ],
   "source": [
    "ITERATIONS = 1000 #100, 1000\n",
    "GENOMES = 2  # N\n",
    "METHOD = 0  # [\"sphere\",\"rosenbrock\", \"rastring\"]\n",
    "LAMDA = 250\n",
    "SIGMA_START = 1\n",
    "MU = 60 #mu = LAMBDA/4 >= 125*N\n",
    "#1 given tau = 1/sqrt(N)\n",
    "tau = 1/np.sqrt(GENOMES)\n",
    "\n",
    "sigma_vector = np.full(GENOMES, SIGMA_START)\n",
    "# Initialize the data saving\n",
    "parents = []\n",
    "for _ in range(MU):\n",
    "    parent_genes = create_genes(dimensions=GENOMES,space=10)\n",
    "    parent = Organism(genes = parent_genes, sigma = sigma_vector, func = METHOD)\n",
    "    parents.append(parent)\n",
    "\n",
    "parent.calc_fitness()\n",
    "parent_list = [parent.genes]\n",
    "fitness_list = [parent.fitness]\n",
    "sigma_list = [parent.sigma]\n",
    "\n",
    "for iter in range(ITERATIONS):\n",
    "    child_list = []\n",
    "    for k in range(LAMDA):\n",
    "        #psi_k = tau*RAND(0,1)\n",
    "        psi_k = tau*np.random.randn()\n",
    "        \n",
    "        tau_i = 1/(GENOMES)**0.25\n",
    "\n",
    "        psy_k_vec = tau_i*np.random.randn(GENOMES)\n",
    "        #z_k = VECTOR -> RAND(0,1)\n",
    "        z_k = np.random.randn(GENOMES)\n",
    "        # sigma based on the random psi\n",
    "        # x_k = Children genes. \n",
    "        # This is the average of all the parent genes\n",
    "        parents_new_genes = [parent.genes for parent in parents]\n",
    "        parent_mean_genes = np.mean(parents_new_genes, axis =0)\n",
    "        parents_new_sigma = [p.sigma for p in parents]\n",
    "        parent_mean_sigma = np.mean(parents_new_sigma, axis =0)\n",
    "\n",
    "        sigma_k = np.multiply(parent_mean_sigma,np.exp(psy_k_vec))*np.exp(psi_k)\n",
    "\n",
    "        x_k = parent_mean_genes + np.multiply(sigma_k,z_k)\n",
    "\n",
    "        # Create a children with all the properties\n",
    "        child_k = Organism(genes = x_k, sigma = sigma_k, func= METHOD)\n",
    "\n",
    "        child_k.calc_fitness()\n",
    "        child_list.append(child_k)\n",
    "\n",
    "    # select best children\n",
    "    children_sorted=sorted(child_list, key=lambda x: x.fitness, reverse=False)\n",
    "    parents = children_sorted[0:MU]\n",
    "\n",
    "    #parent_list.append(parent.genes)\n",
    "    fitness_list.append(min([p.fitness for p in parents]))\n",
    "    #sigma_list.append(parent.sigma)\n",
    "\n",
    "\n",
    "plt.plot(fitness_list)\n",
    "plt.yscale(\"log\")\n",
    "plt.show()"
   ]
  },
  {
   "cell_type": "code",
   "execution_count": null,
   "metadata": {},
   "outputs": [
    {
     "data": {
      "image/png": "[encoded data removed]",
      "text/plain": [
       "<Figure size 432x288 with 1 Axes>"
      ]
     },
     "metadata": {
      "needs_background": "light"
     },
     "output_type": "display_data"
    }
   ],
   "source": [
    "\n"
   ]
  }
 ],
 "metadata": {
  "kernelspec": {
   "display_name": "dataEval",
   "language": "python",
   "name": "python3"
  },
  "language_info": {
   "codemirror_mode": {
    "name": "ipython",
    "version": 3
   },
   "file_extension": ".py",
   "mimetype": "text/x-python",
   "name": "python",
   "nbconvert_exporter": "python",
   "pygments_lexer": "ipython3",
   "version": "3.9.16"
  },
  "orig_nbformat": 4,
  "vscode": {
   "interpreter": {
    "hash": "32d34c8c3da4403d33c112828db94a2f68e3edc7311330ec22cfece486859ce7"
   }
  }
 },
 "nbformat": 4,
 "nbformat_minor": 2
}
